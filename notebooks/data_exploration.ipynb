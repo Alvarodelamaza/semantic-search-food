{
 "cells": [
  {
   "cell_type": "code",
   "execution_count": 1,
   "metadata": {},
   "outputs": [],
   "source": [
    "import pandas as pd"
   ]
  },
  {
   "cell_type": "markdown",
   "metadata": {},
   "source": [
    "## Queries"
   ]
  },
  {
   "cell_type": "code",
   "execution_count": 2,
   "metadata": {},
   "outputs": [],
   "source": [
    "queries = pd.read_csv(\"../data/queries.csv\")"
   ]
  },
  {
   "cell_type": "code",
   "execution_count": 3,
   "metadata": {},
   "outputs": [
    {
     "data": {
      "text/html": [
       "<div>\n",
       "<style scoped>\n",
       "    .dataframe tbody tr th:only-of-type {\n",
       "        vertical-align: middle;\n",
       "    }\n",
       "\n",
       "    .dataframe tbody tr th {\n",
       "        vertical-align: top;\n",
       "    }\n",
       "\n",
       "    .dataframe thead th {\n",
       "        text-align: right;\n",
       "    }\n",
       "</style>\n",
       "<table border=\"1\" class=\"dataframe\">\n",
       "  <thead>\n",
       "    <tr style=\"text-align: right;\">\n",
       "      <th></th>\n",
       "      <th>search_term_pt</th>\n",
       "    </tr>\n",
       "  </thead>\n",
       "  <tbody>\n",
       "    <tr>\n",
       "      <th>0</th>\n",
       "      <td>Batatas fritas de rua carregadas</td>\n",
       "    </tr>\n",
       "    <tr>\n",
       "      <th>1</th>\n",
       "      <td>Pizza de massa fina assada em forno a lenha</td>\n",
       "    </tr>\n",
       "    <tr>\n",
       "      <th>2</th>\n",
       "      <td>Sopa de macarrão feita à mão</td>\n",
       "    </tr>\n",
       "    <tr>\n",
       "      <th>3</th>\n",
       "      <td>Almoço estilo havaiano</td>\n",
       "    </tr>\n",
       "    <tr>\n",
       "      <th>4</th>\n",
       "      <td>Sanduíche de café da manhã com abacate</td>\n",
       "    </tr>\n",
       "    <tr>\n",
       "      <th>...</th>\n",
       "      <td>...</td>\n",
       "    </tr>\n",
       "    <tr>\n",
       "      <th>95</th>\n",
       "      <td>Arroz temperado do norte da África</td>\n",
       "    </tr>\n",
       "    <tr>\n",
       "      <th>96</th>\n",
       "      <td>Prato para almoço de escritório</td>\n",
       "    </tr>\n",
       "    <tr>\n",
       "      <th>97</th>\n",
       "      <td>Caixa de proteína rápida e saudável</td>\n",
       "    </tr>\n",
       "    <tr>\n",
       "      <th>98</th>\n",
       "      <td>Carne assada caseira com acompanhamentos</td>\n",
       "    </tr>\n",
       "    <tr>\n",
       "      <th>99</th>\n",
       "      <td>Lanche reconfortante para a madrugada</td>\n",
       "    </tr>\n",
       "  </tbody>\n",
       "</table>\n",
       "<p>100 rows × 1 columns</p>\n",
       "</div>"
      ],
      "text/plain": [
       "                                 search_term_pt\n",
       "0              Batatas fritas de rua carregadas\n",
       "1   Pizza de massa fina assada em forno a lenha\n",
       "2                  Sopa de macarrão feita à mão\n",
       "3                        Almoço estilo havaiano\n",
       "4        Sanduíche de café da manhã com abacate\n",
       "..                                          ...\n",
       "95           Arroz temperado do norte da África\n",
       "96              Prato para almoço de escritório\n",
       "97          Caixa de proteína rápida e saudável\n",
       "98     Carne assada caseira com acompanhamentos\n",
       "99        Lanche reconfortante para a madrugada\n",
       "\n",
       "[100 rows x 1 columns]"
      ]
     },
     "execution_count": 3,
     "metadata": {},
     "output_type": "execute_result"
    }
   ],
   "source": [
    "queries"
   ]
  },
  {
   "cell_type": "code",
   "execution_count": 5,
   "metadata": {},
   "outputs": [
    {
     "data": {
      "text/html": [
       "<div>\n",
       "<style scoped>\n",
       "    .dataframe tbody tr th:only-of-type {\n",
       "        vertical-align: middle;\n",
       "    }\n",
       "\n",
       "    .dataframe tbody tr th {\n",
       "        vertical-align: top;\n",
       "    }\n",
       "\n",
       "    .dataframe thead th {\n",
       "        text-align: right;\n",
       "    }\n",
       "</style>\n",
       "<table border=\"1\" class=\"dataframe\">\n",
       "  <thead>\n",
       "    <tr style=\"text-align: right;\">\n",
       "      <th></th>\n",
       "      <th>search_term_pt</th>\n",
       "    </tr>\n",
       "  </thead>\n",
       "  <tbody>\n",
       "    <tr>\n",
       "      <th>count</th>\n",
       "      <td>100</td>\n",
       "    </tr>\n",
       "    <tr>\n",
       "      <th>unique</th>\n",
       "      <td>100</td>\n",
       "    </tr>\n",
       "    <tr>\n",
       "      <th>top</th>\n",
       "      <td>Batatas fritas de rua carregadas</td>\n",
       "    </tr>\n",
       "    <tr>\n",
       "      <th>freq</th>\n",
       "      <td>1</td>\n",
       "    </tr>\n",
       "  </tbody>\n",
       "</table>\n",
       "</div>"
      ],
      "text/plain": [
       "                          search_term_pt\n",
       "count                                100\n",
       "unique                               100\n",
       "top     Batatas fritas de rua carregadas\n",
       "freq                                   1"
      ]
     },
     "execution_count": 5,
     "metadata": {},
     "output_type": "execute_result"
    }
   ],
   "source": [
    "queries.describe()"
   ]
  },
  {
   "cell_type": "code",
   "execution_count": null,
   "metadata": {},
   "outputs": [],
   "source": []
  },
  {
   "cell_type": "markdown",
   "metadata": {},
   "source": [
    "## Items"
   ]
  },
  {
   "cell_type": "code",
   "execution_count": 6,
   "metadata": {},
   "outputs": [],
   "source": [
    "items = pd.read_csv(\"../data/5k_items_curated.csv\")"
   ]
  },
  {
   "cell_type": "code",
   "execution_count": 7,
   "metadata": {},
   "outputs": [
    {
     "data": {
      "text/html": [
       "<div>\n",
       "<style scoped>\n",
       "    .dataframe tbody tr th:only-of-type {\n",
       "        vertical-align: middle;\n",
       "    }\n",
       "\n",
       "    .dataframe tbody tr th {\n",
       "        vertical-align: top;\n",
       "    }\n",
       "\n",
       "    .dataframe thead th {\n",
       "        text-align: right;\n",
       "    }\n",
       "</style>\n",
       "<table border=\"1\" class=\"dataframe\">\n",
       "  <thead>\n",
       "    <tr style=\"text-align: right;\">\n",
       "      <th></th>\n",
       "      <th>_id</th>\n",
       "      <th>itemId</th>\n",
       "      <th>itemMetadata</th>\n",
       "      <th>itemProfile</th>\n",
       "      <th>merchantId</th>\n",
       "    </tr>\n",
       "  </thead>\n",
       "  <tbody>\n",
       "    <tr>\n",
       "      <th>0</th>\n",
       "      <td>6813b2b5b7476b2ec454b7ff</td>\n",
       "      <td>442731c2-144b-4c5c-b81e-e0cf9dfa9630</td>\n",
       "      <td>{\"category_name\":\"Alimentos Básicos\",\"descript...</td>\n",
       "      <td>{\"metrics\":{\"avgBasketPrice\":159.89,\"coPurchas...</td>\n",
       "      <td>d6cf7b73-c9bb-4c8a-abd6-c1a832bdd461</td>\n",
       "    </tr>\n",
       "    <tr>\n",
       "      <th>1</th>\n",
       "      <td>6813b2b5b7476b2ec454b800</td>\n",
       "      <td>4a6d4a8f-c1bf-4457-a448-4a3b5e1eb20c</td>\n",
       "      <td>{\"category_name\":\"Doces e Sobremesas\",\"descrip...</td>\n",
       "      <td>{\"metrics\":{\"avgBasketPrice\":182.44,\"coPurchas...</td>\n",
       "      <td>d6cf7b73-c9bb-4c8a-abd6-c1a832bdd461</td>\n",
       "    </tr>\n",
       "    <tr>\n",
       "      <th>2</th>\n",
       "      <td>6813b2b5b7476b2ec454b801</td>\n",
       "      <td>5380e263-c202-45cf-8eae-81e54573f122</td>\n",
       "      <td>{\"category_name\":\"Higiene e Cuidados Pessoais\"...</td>\n",
       "      <td>{\"metrics\":{\"avgBasketPrice\":190.63,\"coPurchas...</td>\n",
       "      <td>d6cf7b73-c9bb-4c8a-abd6-c1a832bdd461</td>\n",
       "    </tr>\n",
       "    <tr>\n",
       "      <th>3</th>\n",
       "      <td>6813b2b5b7476b2ec454b802</td>\n",
       "      <td>595ce305-ddf5-49fc-9a8c-b50a9ccf6267</td>\n",
       "      <td>{\"category_name\":\"Higiene e Cuidados Pessoais\"...</td>\n",
       "      <td>{\"metrics\":{\"avgBasketPrice\":113.56,\"coPurchas...</td>\n",
       "      <td>d6cf7b73-c9bb-4c8a-abd6-c1a832bdd461</td>\n",
       "    </tr>\n",
       "    <tr>\n",
       "      <th>4</th>\n",
       "      <td>6813b2b5b7476b2ec454b803</td>\n",
       "      <td>5e2db3a9-1a2c-4462-8aa1-1ed045122e12</td>\n",
       "      <td>{\"category_name\":\"Pet Shop\",\"description\":\"• R...</td>\n",
       "      <td>{\"metrics\":{\"avgBasketPrice\":223.58,\"coPurchas...</td>\n",
       "      <td>d6cf7b73-c9bb-4c8a-abd6-c1a832bdd461</td>\n",
       "    </tr>\n",
       "    <tr>\n",
       "      <th>...</th>\n",
       "      <td>...</td>\n",
       "      <td>...</td>\n",
       "      <td>...</td>\n",
       "      <td>...</td>\n",
       "      <td>...</td>\n",
       "    </tr>\n",
       "    <tr>\n",
       "      <th>4995</th>\n",
       "      <td>6813b39eb7476b2ec454cb82</td>\n",
       "      <td>d4fe2d30-a824-4071-8bb7-9e70ab984db6</td>\n",
       "      <td>{\"category_name\":\"Croissant &amp; Brezel\",\"descrip...</td>\n",
       "      <td>{\"metrics\":{\"avgBasketPrice\":78.99,\"coPurchase...</td>\n",
       "      <td>bf0d36fe-8972-4b66-8247-38aba1254ae1</td>\n",
       "    </tr>\n",
       "    <tr>\n",
       "      <th>4996</th>\n",
       "      <td>6813b39eb7476b2ec454cb83</td>\n",
       "      <td>3aeb7744-c99d-43dc-883f-4eec44d7d85b</td>\n",
       "      <td>{\"category_name\":\"Lanches Saudáveis\",\"descript...</td>\n",
       "      <td>{\"metrics\":{\"avgBasketPrice\":80.68,\"coPurchase...</td>\n",
       "      <td>bf2834a7-754f-48cc-944f-cb14e65d580c</td>\n",
       "    </tr>\n",
       "    <tr>\n",
       "      <th>4997</th>\n",
       "      <td>6813b39eb7476b2ec454cb84</td>\n",
       "      <td>cf9963da-6971-4acb-a511-4663a4a500a7</td>\n",
       "      <td>{\"category_name\":\"Bebidas\",\"description\":\"Garr...</td>\n",
       "      <td>{\"metrics\":{\"avgBasketPrice\":28.2,\"coPurchaseI...</td>\n",
       "      <td>bf3d038c-eb28-419e-81c4-a8475bbea9b7</td>\n",
       "    </tr>\n",
       "    <tr>\n",
       "      <th>4998</th>\n",
       "      <td>6813b39eb7476b2ec454cb85</td>\n",
       "      <td>137495b9-7098-4fe4-8992-db2ab1c2e2ad</td>\n",
       "      <td>{\"category_name\":\"Sucos Naturais e Especiais\",...</td>\n",
       "      <td>{\"metrics\":{\"avgBasketPrice\":80.16,\"coPurchase...</td>\n",
       "      <td>bf78c130-3ae9-4d46-b600-ae09849099ab</td>\n",
       "    </tr>\n",
       "    <tr>\n",
       "      <th>4999</th>\n",
       "      <td>6813b39eb7476b2ec454cb86</td>\n",
       "      <td>4f3db47d-558f-4307-996d-21e9cd0b168d</td>\n",
       "      <td>{\"category_name\":\"Para Compartilhar\",\"descript...</td>\n",
       "      <td>{\"metrics\":{\"avgBasketPrice\":223.97,\"coPurchas...</td>\n",
       "      <td>bfa14265-d762-4d1f-a376-0f03e8212114</td>\n",
       "    </tr>\n",
       "  </tbody>\n",
       "</table>\n",
       "<p>5000 rows × 5 columns</p>\n",
       "</div>"
      ],
      "text/plain": [
       "                           _id                                itemId  \\\n",
       "0     6813b2b5b7476b2ec454b7ff  442731c2-144b-4c5c-b81e-e0cf9dfa9630   \n",
       "1     6813b2b5b7476b2ec454b800  4a6d4a8f-c1bf-4457-a448-4a3b5e1eb20c   \n",
       "2     6813b2b5b7476b2ec454b801  5380e263-c202-45cf-8eae-81e54573f122   \n",
       "3     6813b2b5b7476b2ec454b802  595ce305-ddf5-49fc-9a8c-b50a9ccf6267   \n",
       "4     6813b2b5b7476b2ec454b803  5e2db3a9-1a2c-4462-8aa1-1ed045122e12   \n",
       "...                        ...                                   ...   \n",
       "4995  6813b39eb7476b2ec454cb82  d4fe2d30-a824-4071-8bb7-9e70ab984db6   \n",
       "4996  6813b39eb7476b2ec454cb83  3aeb7744-c99d-43dc-883f-4eec44d7d85b   \n",
       "4997  6813b39eb7476b2ec454cb84  cf9963da-6971-4acb-a511-4663a4a500a7   \n",
       "4998  6813b39eb7476b2ec454cb85  137495b9-7098-4fe4-8992-db2ab1c2e2ad   \n",
       "4999  6813b39eb7476b2ec454cb86  4f3db47d-558f-4307-996d-21e9cd0b168d   \n",
       "\n",
       "                                           itemMetadata  \\\n",
       "0     {\"category_name\":\"Alimentos Básicos\",\"descript...   \n",
       "1     {\"category_name\":\"Doces e Sobremesas\",\"descrip...   \n",
       "2     {\"category_name\":\"Higiene e Cuidados Pessoais\"...   \n",
       "3     {\"category_name\":\"Higiene e Cuidados Pessoais\"...   \n",
       "4     {\"category_name\":\"Pet Shop\",\"description\":\"• R...   \n",
       "...                                                 ...   \n",
       "4995  {\"category_name\":\"Croissant & Brezel\",\"descrip...   \n",
       "4996  {\"category_name\":\"Lanches Saudáveis\",\"descript...   \n",
       "4997  {\"category_name\":\"Bebidas\",\"description\":\"Garr...   \n",
       "4998  {\"category_name\":\"Sucos Naturais e Especiais\",...   \n",
       "4999  {\"category_name\":\"Para Compartilhar\",\"descript...   \n",
       "\n",
       "                                            itemProfile  \\\n",
       "0     {\"metrics\":{\"avgBasketPrice\":159.89,\"coPurchas...   \n",
       "1     {\"metrics\":{\"avgBasketPrice\":182.44,\"coPurchas...   \n",
       "2     {\"metrics\":{\"avgBasketPrice\":190.63,\"coPurchas...   \n",
       "3     {\"metrics\":{\"avgBasketPrice\":113.56,\"coPurchas...   \n",
       "4     {\"metrics\":{\"avgBasketPrice\":223.58,\"coPurchas...   \n",
       "...                                                 ...   \n",
       "4995  {\"metrics\":{\"avgBasketPrice\":78.99,\"coPurchase...   \n",
       "4996  {\"metrics\":{\"avgBasketPrice\":80.68,\"coPurchase...   \n",
       "4997  {\"metrics\":{\"avgBasketPrice\":28.2,\"coPurchaseI...   \n",
       "4998  {\"metrics\":{\"avgBasketPrice\":80.16,\"coPurchase...   \n",
       "4999  {\"metrics\":{\"avgBasketPrice\":223.97,\"coPurchas...   \n",
       "\n",
       "                                merchantId  \n",
       "0     d6cf7b73-c9bb-4c8a-abd6-c1a832bdd461  \n",
       "1     d6cf7b73-c9bb-4c8a-abd6-c1a832bdd461  \n",
       "2     d6cf7b73-c9bb-4c8a-abd6-c1a832bdd461  \n",
       "3     d6cf7b73-c9bb-4c8a-abd6-c1a832bdd461  \n",
       "4     d6cf7b73-c9bb-4c8a-abd6-c1a832bdd461  \n",
       "...                                    ...  \n",
       "4995  bf0d36fe-8972-4b66-8247-38aba1254ae1  \n",
       "4996  bf2834a7-754f-48cc-944f-cb14e65d580c  \n",
       "4997  bf3d038c-eb28-419e-81c4-a8475bbea9b7  \n",
       "4998  bf78c130-3ae9-4d46-b600-ae09849099ab  \n",
       "4999  bfa14265-d762-4d1f-a376-0f03e8212114  \n",
       "\n",
       "[5000 rows x 5 columns]"
      ]
     },
     "execution_count": 7,
     "metadata": {},
     "output_type": "execute_result"
    }
   ],
   "source": [
    "items"
   ]
  },
  {
   "cell_type": "code",
   "execution_count": 9,
   "metadata": {},
   "outputs": [
    {
     "data": {
      "text/html": [
       "<div>\n",
       "<style scoped>\n",
       "    .dataframe tbody tr th:only-of-type {\n",
       "        vertical-align: middle;\n",
       "    }\n",
       "\n",
       "    .dataframe tbody tr th {\n",
       "        vertical-align: top;\n",
       "    }\n",
       "\n",
       "    .dataframe thead th {\n",
       "        text-align: right;\n",
       "    }\n",
       "</style>\n",
       "<table border=\"1\" class=\"dataframe\">\n",
       "  <thead>\n",
       "    <tr style=\"text-align: right;\">\n",
       "      <th></th>\n",
       "      <th>_id</th>\n",
       "      <th>itemId</th>\n",
       "      <th>itemMetadata</th>\n",
       "      <th>itemProfile</th>\n",
       "      <th>merchantId</th>\n",
       "    </tr>\n",
       "  </thead>\n",
       "  <tbody>\n",
       "    <tr>\n",
       "      <th>count</th>\n",
       "      <td>5000</td>\n",
       "      <td>5000</td>\n",
       "      <td>5000</td>\n",
       "      <td>5000</td>\n",
       "      <td>5000</td>\n",
       "    </tr>\n",
       "    <tr>\n",
       "      <th>unique</th>\n",
       "      <td>5000</td>\n",
       "      <td>4997</td>\n",
       "      <td>4968</td>\n",
       "      <td>4997</td>\n",
       "      <td>1806</td>\n",
       "    </tr>\n",
       "    <tr>\n",
       "      <th>top</th>\n",
       "      <td>6813b2b5b7476b2ec454b7ff</td>\n",
       "      <td>fd7d8fe6-1b23-4bf9-b23b-0d978f904492</td>\n",
       "      <td>{\"category_name\":\"Limpeza\",\"description\":\"\",\"i...</td>\n",
       "      <td>{\"metrics\":{\"avgBasketPrice\":140.34,\"coPurchas...</td>\n",
       "      <td>f91fa0ce-57d6-4a3d-95be-79ef1ab71f23</td>\n",
       "    </tr>\n",
       "    <tr>\n",
       "      <th>freq</th>\n",
       "      <td>1</td>\n",
       "      <td>4</td>\n",
       "      <td>4</td>\n",
       "      <td>4</td>\n",
       "      <td>73</td>\n",
       "    </tr>\n",
       "  </tbody>\n",
       "</table>\n",
       "</div>"
      ],
      "text/plain": [
       "                             _id                                itemId  \\\n",
       "count                       5000                                  5000   \n",
       "unique                      5000                                  4997   \n",
       "top     6813b2b5b7476b2ec454b7ff  fd7d8fe6-1b23-4bf9-b23b-0d978f904492   \n",
       "freq                           1                                     4   \n",
       "\n",
       "                                             itemMetadata  \\\n",
       "count                                                5000   \n",
       "unique                                               4968   \n",
       "top     {\"category_name\":\"Limpeza\",\"description\":\"\",\"i...   \n",
       "freq                                                    4   \n",
       "\n",
       "                                              itemProfile  \\\n",
       "count                                                5000   \n",
       "unique                                               4997   \n",
       "top     {\"metrics\":{\"avgBasketPrice\":140.34,\"coPurchas...   \n",
       "freq                                                    4   \n",
       "\n",
       "                                  merchantId  \n",
       "count                                   5000  \n",
       "unique                                  1806  \n",
       "top     f91fa0ce-57d6-4a3d-95be-79ef1ab71f23  \n",
       "freq                                      73  "
      ]
     },
     "execution_count": 9,
     "metadata": {},
     "output_type": "execute_result"
    }
   ],
   "source": [
    "items.describe()"
   ]
  },
  {
   "cell_type": "code",
   "execution_count": 10,
   "metadata": {},
   "outputs": [
    {
     "name": "stdout",
     "output_type": "stream",
     "text": [
      "<class 'pandas.core.frame.DataFrame'>\n",
      "RangeIndex: 5000 entries, 0 to 4999\n",
      "Data columns (total 5 columns):\n",
      " #   Column        Non-Null Count  Dtype \n",
      "---  ------        --------------  ----- \n",
      " 0   _id           5000 non-null   object\n",
      " 1   itemId        5000 non-null   object\n",
      " 2   itemMetadata  5000 non-null   object\n",
      " 3   itemProfile   5000 non-null   object\n",
      " 4   merchantId    5000 non-null   object\n",
      "dtypes: object(5)\n",
      "memory usage: 195.4+ KB\n"
     ]
    }
   ],
   "source": [
    "items.info()"
   ]
  },
  {
   "cell_type": "code",
   "execution_count": 26,
   "metadata": {},
   "outputs": [
    {
     "ename": "ValueError",
     "evalue": "dictionary update sequence element #0 has length 1; 2 is required",
     "output_type": "error",
     "traceback": [
      "\u001b[31m---------------------------------------------------------------------------\u001b[39m",
      "\u001b[31mValueError\u001b[39m                                Traceback (most recent call last)",
      "\u001b[36mCell\u001b[39m\u001b[36m \u001b[39m\u001b[32mIn[26]\u001b[39m\u001b[32m, line 1\u001b[39m\n\u001b[32m----> \u001b[39m\u001b[32m1\u001b[39m metadata_df=pd.DataFrame(data=items[\u001b[33m'\u001b[39m\u001b[33mitemMetadata\u001b[39m\u001b[33m'\u001b[39m], columns=\u001b[38;5;28mlist\u001b[39m(\u001b[38;5;28;43mdict\u001b[39;49m\u001b[43m(\u001b[49m\u001b[43mitems\u001b[49m\u001b[43m[\u001b[49m\u001b[33;43m'\u001b[39;49m\u001b[33;43mitemMetadata\u001b[39;49m\u001b[33;43m'\u001b[39;49m\u001b[43m]\u001b[49m\u001b[43m[\u001b[49m\u001b[32;43m0\u001b[39;49m\u001b[43m]\u001b[49m\u001b[43m)\u001b[49m.keys()))\n",
      "\u001b[31mValueError\u001b[39m: dictionary update sequence element #0 has length 1; 2 is required"
     ]
    }
   ],
   "source": [
    "metadata_df=pd.DataFrame(data=items['itemMetadata'], columns=list(dict(items['itemMetadata'][0]).keys()))"
   ]
  },
  {
   "cell_type": "code",
   "execution_count": 32,
   "metadata": {},
   "outputs": [
    {
     "data": {
      "text/plain": [
       "'{\"category_name\":\"Alimentos Básicos\",\"description\":\"Pacote 500g\",\"images\":[\"820af392-002c-47b1-bfae-d7ef31743c7f/202210182253_3h93mu9eg9y.jpg\",\"820af392-002c-47b1-bfae-d7ef31743c7f/202210182253_06c38y2upker.jpg\"],\"lacFree\":false,\"name\":\"Macarrão Pena com Ovos Adria 500g\",\"organic\":false,\"price\":3.56,\"tags\":[{\"key\":\"PORTION_SIZE\",\"value\":[\"NOT_APPLICABLE\"]}],\"taxonomy\":{\"l0\":\"MERCEARIA\",\"l1\":\"MASSAS_SECAS\",\"l2\":\"MASSA_MACARRAO\"},\"vegan\":false}'"
      ]
     },
     "execution_count": 32,
     "metadata": {},
     "output_type": "execute_result"
    }
   ],
   "source": [
    "items['itemMetadata'][0]"
   ]
  },
  {
   "cell_type": "code",
   "execution_count": null,
   "metadata": {},
   "outputs": [
    {
     "data": {
      "text/html": [
       "<div>\n",
       "<style scoped>\n",
       "    .dataframe tbody tr th:only-of-type {\n",
       "        vertical-align: middle;\n",
       "    }\n",
       "\n",
       "    .dataframe tbody tr th {\n",
       "        vertical-align: top;\n",
       "    }\n",
       "\n",
       "    .dataframe thead th {\n",
       "        text-align: right;\n",
       "    }\n",
       "</style>\n",
       "<table border=\"1\" class=\"dataframe\">\n",
       "  <thead>\n",
       "    <tr style=\"text-align: right;\">\n",
       "      <th></th>\n",
       "      <th>0</th>\n",
       "      <th>1</th>\n",
       "      <th>2</th>\n",
       "      <th>3</th>\n",
       "      <th>4</th>\n",
       "      <th>5</th>\n",
       "      <th>6</th>\n",
       "      <th>7</th>\n",
       "      <th>8</th>\n",
       "      <th>9</th>\n",
       "      <th>...</th>\n",
       "      <th>4990</th>\n",
       "      <th>4991</th>\n",
       "      <th>4992</th>\n",
       "      <th>4993</th>\n",
       "      <th>4994</th>\n",
       "      <th>4995</th>\n",
       "      <th>4996</th>\n",
       "      <th>4997</th>\n",
       "      <th>4998</th>\n",
       "      <th>4999</th>\n",
       "    </tr>\n",
       "  </thead>\n",
       "  <tbody>\n",
       "  </tbody>\n",
       "</table>\n",
       "<p>0 rows × 5000 columns</p>\n",
       "</div>"
      ],
      "text/plain": [
       "Empty DataFrame\n",
       "Columns: [0, 1, 2, 3, 4, 5, 6, 7, 8, 9, 10, 11, 12, 13, 14, 15, 16, 17, 18, 19, 20, 21, 22, 23, 24, 25, 26, 27, 28, 29, 30, 31, 32, 33, 34, 35, 36, 37, 38, 39, 40, 41, 42, 43, 44, 45, 46, 47, 48, 49, 50, 51, 52, 53, 54, 55, 56, 57, 58, 59, 60, 61, 62, 63, 64, 65, 66, 67, 68, 69, 70, 71, 72, 73, 74, 75, 76, 77, 78, 79, 80, 81, 82, 83, 84, 85, 86, 87, 88, 89, 90, 91, 92, 93, 94, 95, 96, 97, 98, 99, ...]\n",
       "Index: []\n",
       "\n",
       "[0 rows x 5000 columns]"
      ]
     },
     "execution_count": 23,
     "metadata": {},
     "output_type": "execute_result"
    }
   ],
   "source": []
  },
  {
   "cell_type": "code",
   "execution_count": 15,
   "metadata": {},
   "outputs": [
    {
     "data": {
      "text/plain": [
       "'{\"metrics\":{\"avgBasketPrice\":159.89,\"coPurchaseItems\":[{\"gross_price\":4.79,\"item_description\":\"\",\"item_id\":\"815bf4a6-5478-4663-a4a9-e45b165f9928\",\"item_name\":\"Leite Uht Integral Italac 1l\",\"merchant_id\":\"d6cf7b73-c9bb-4c8a-abd6-c1a832bdd461\"},{\"gross_price\":15.0,\"item_description\":\"Embalagem 1un\",\"item_id\":\"95ad7643-9acb-48f6-a75c-f4bcffbf3784\",\"item_name\":\"Ovo Grande Vermelho C12 Carrefour\",\"merchant_id\":\"d6cf7b73-c9bb-4c8a-abd6-c1a832bdd461\"},{\"gross_price\":6.05,\"item_description\":\"Embalagem 170g\",\"item_id\":\"93e2ae19-990a-486f-b5b3-4c693ac19c1e\",\"item_name\":\"Atum Ralado Ao Natural Carrefour 170g\",\"merchant_id\":\"d6cf7b73-c9bb-4c8a-abd6-c1a832bdd461\"},{\"gross_price\":5.24,\"item_description\":\"\",\"item_id\":\"b7259e0f-34dd-445e-b550-ab4049df85b3\",\"item_name\":\"Leite Integral Uht Piracanjuba 1l\",\"merchant_id\":\"d6cf7b73-c9bb-4c8a-abd6-c1a832bdd461\"},{\"gross_price\":2.27,\"item_description\":\"Embalagem 300g\",\"item_id\":\"2e975f77-5fcc-43eb-9bf2-af1506b63d67\",\"item_name\":\"Molho de Tomate Sabor Manjericão Tarantella 300g\",\"merchant_id\":\"d6cf7b73-c9bb-4c8a-abd6-c1a832bdd461\"},{\"gross_price\":4.86,\"item_description\":\"Pacote 1kg\",\"item_id\":\"0e2121da-4517-421d-b668-7c8d215f074e\",\"item_name\":\"Sabão em Pó Ares Max Limpeza Pacote 1kg\",\"merchant_id\":\"d6cf7b73-c9bb-4c8a-abd6-c1a832bdd461\"},{\"gross_price\":9.99,\"item_description\":\"Embalagem 150g\",\"item_id\":\"d36d3e43-aa77-4d5d-9d9a-8abef95e1170\",\"item_name\":\"Queijo Mussarela Fatiado Président 150g\",\"merchant_id\":\"d6cf7b73-c9bb-4c8a-abd6-c1a832bdd461\"},{\"gross_price\":5.14,\"item_description\":\"\",\"item_id\":\"815bf4a6-5478-4663-a4a9-e45b165f9928\",\"item_name\":\"Leite Uht Integral Italac 1l\",\"merchant_id\":\"d6cf7b73-c9bb-4c8a-abd6-c1a832bdd461\"},{\"gross_price\":10.29,\"item_description\":\"\",\"item_id\":\"363a87d9-5e3f-4b38-85b1-e19ba86b89f1\",\"item_name\":\"Maionese Hellmann\\'s Tradicional 500g\",\"merchant_id\":\"d6cf7b73-c9bb-4c8a-abd6-c1a832bdd461\"},{\"gross_price\":1.91,\"item_description\":\"Embalagem 300g\",\"item_id\":\"eea91256-5d4b-4665-b77e-f844ca9292fb\",\"item_name\":\"Molho de Tomate Pomarola Sache 300g Tradicional\",\"merchant_id\":\"d6cf7b73-c9bb-4c8a-abd6-c1a832bdd461\"}],\"conversionRate\":5.33,\"customizations\":[],\"deliveryTime\":130.63,\"orderingRate\":{\"day\":{\"weekday\":0.56,\"weekend\":0.44},\"shift\":{\"breakfast\":0.25,\"dawn\":0.06,\"dinner\":0.31,\"lunch\":0.31,\"snack\":0.06}},\"preparationTime\":48.75,\"reorderRate\":0.0,\"total_orders\":16,\"voucherUsage\":1.0},\"search\":[{\"count\":2,\"method\":\"term\",\"term\":\"milk-shake\"},{\"count\":1,\"method\":\"suggestion\",\"term\":\"matizador\"},{\"count\":1,\"method\":\"term\",\"term\":\"sem glúten\"},{\"count\":1,\"method\":\"suggestion\",\"term\":\"bob\\'s\"},{\"count\":1,\"method\":\"suggestion\",\"term\":\"burger king\"},{\"count\":1,\"method\":\"term\",\"term\":\"ana maria\"},{\"count\":1,\"method\":\"suggestion\",\"term\":\"o burguês\"}]}'"
      ]
     },
     "execution_count": 15,
     "metadata": {},
     "output_type": "execute_result"
    }
   ],
   "source": [
    "items['itemProfile'][0]"
   ]
  },
  {
   "cell_type": "code",
   "execution_count": null,
   "metadata": {},
   "outputs": [],
   "source": []
  }
 ],
 "metadata": {
  "kernelspec": {
   "display_name": "venv",
   "language": "python",
   "name": "python3"
  },
  "language_info": {
   "codemirror_mode": {
    "name": "ipython",
    "version": 3
   },
   "file_extension": ".py",
   "mimetype": "text/x-python",
   "name": "python",
   "nbconvert_exporter": "python",
   "pygments_lexer": "ipython3",
   "version": "3.13.2"
  }
 },
 "nbformat": 4,
 "nbformat_minor": 2
}
