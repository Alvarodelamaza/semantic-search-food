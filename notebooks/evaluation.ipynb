{
 "cells": [
  {
   "cell_type": "code",
   "execution_count": 1,
   "metadata": {},
   "outputs": [],
   "source": [
    "import pandas as pd \n",
    "import numpy as np\n",
    "from tqdm import tqdm\n",
    "import sys\n",
    "import os\n",
    "sys.path.append(os.path.abspath(os.path.join(os.getcwd(), '..', 'src')))\n",
    "from evaluation import evaluate_search_system \n",
    "from preprocess import semantic_search_expanded_query\n",
    "from semantic_search import semantic_search ,enhanced_search, generate_embeddings, build_faiss_index, enhanced_search_with_faiss\n",
    "from utils import convert_embedding_string_to_array, display_search_results, search_ui"
   ]
  },
  {
   "cell_type": "markdown",
   "metadata": {},
   "source": [
    "I recommend not to run the full notebook, as some experiments (ReRank and FAISS) can take up to 35 mins to run each. For further explanation of the methodology you can visit: https://www.overleaf.com/read/dbdnkdksnrvx#2a3038"
   ]
  },
  {
   "cell_type": "markdown",
   "metadata": {},
   "source": [
    "### Data loading "
   ]
  },
  {
   "cell_type": "code",
   "execution_count": 2,
   "metadata": {},
   "outputs": [],
   "source": [
    "items = pd.read_csv(\"../data/5k_items_processed.csv\")\n",
    "queries = pd.read_csv(\"../data/queries.csv\")\n",
    "\n",
    "test_queries = pd.read_csv(\"../data/test_queries.csv\")\n",
    "test_queries=list(test_queries['query'])\n",
    "\n"
   ]
  },
  {
   "cell_type": "code",
   "execution_count": 5,
   "metadata": {},
   "outputs": [
    {
     "data": {
      "text/html": [
       "<div>\n",
       "<style scoped>\n",
       "    .dataframe tbody tr th:only-of-type {\n",
       "        vertical-align: middle;\n",
       "    }\n",
       "\n",
       "    .dataframe tbody tr th {\n",
       "        vertical-align: top;\n",
       "    }\n",
       "\n",
       "    .dataframe thead th {\n",
       "        text-align: right;\n",
       "    }\n",
       "</style>\n",
       "<table border=\"1\" class=\"dataframe\">\n",
       "  <thead>\n",
       "    <tr style=\"text-align: right;\">\n",
       "      <th></th>\n",
       "      <th>_id</th>\n",
       "      <th>itemId</th>\n",
       "      <th>itemMetadata</th>\n",
       "      <th>itemProfile</th>\n",
       "      <th>merchantId</th>\n",
       "      <th>jointText</th>\n",
       "      <th>jointTextNatural</th>\n",
       "      <th>organic</th>\n",
       "      <th>lacFree</th>\n",
       "      <th>vegan</th>\n",
       "      <th>avgBasketPrice</th>\n",
       "      <th>total_orders</th>\n",
       "      <th>category_name</th>\n",
       "      <th>reorderRate</th>\n",
       "      <th>embeddings_jointText</th>\n",
       "      <th>embeddings_jointTextNatural</th>\n",
       "    </tr>\n",
       "  </thead>\n",
       "  <tbody>\n",
       "    <tr>\n",
       "      <th>0</th>\n",
       "      <td>6813b2b5b7476b2ec454b7ff</td>\n",
       "      <td>442731c2-144b-4c5c-b81e-e0cf9dfa9630</td>\n",
       "      <td>{\"category_name\":\"Alimentos Básicos\",\"descript...</td>\n",
       "      <td>{\"metrics\":{\"avgBasketPrice\":159.89,\"coPurchas...</td>\n",
       "      <td>d6cf7b73-c9bb-4c8a-abd6-c1a832bdd461</td>\n",
       "      <td>Macarrão Pena com Ovos Adria 500g Pacote 500g ...</td>\n",
       "      <td>Macarrão Pena com Ovos Adria 500g pertencente ...</td>\n",
       "      <td>False</td>\n",
       "      <td>False</td>\n",
       "      <td>False</td>\n",
       "      <td>159.89</td>\n",
       "      <td>16</td>\n",
       "      <td>Alimentos Básicos</td>\n",
       "      <td>0.0</td>\n",
       "      <td>[-0.04738183692097664, 0.047670163214206696, -...</td>\n",
       "      <td>[-0.0449894517660141, 0.05385494977235794, -0....</td>\n",
       "    </tr>\n",
       "    <tr>\n",
       "      <th>1</th>\n",
       "      <td>6813b2b5b7476b2ec454b800</td>\n",
       "      <td>4a6d4a8f-c1bf-4457-a448-4a3b5e1eb20c</td>\n",
       "      <td>{\"category_name\":\"Doces e Sobremesas\",\"descrip...</td>\n",
       "      <td>{\"metrics\":{\"avgBasketPrice\":182.44,\"coPurchas...</td>\n",
       "      <td>d6cf7b73-c9bb-4c8a-abd6-c1a832bdd461</td>\n",
       "      <td>Goplana Squares Pistache 200g Embalagem 200g D...</td>\n",
       "      <td>Goplana Squares Pistache 200g pertencente à ca...</td>\n",
       "      <td>False</td>\n",
       "      <td>False</td>\n",
       "      <td>False</td>\n",
       "      <td>182.44</td>\n",
       "      <td>1</td>\n",
       "      <td>Doces e Sobremesas</td>\n",
       "      <td>0.0</td>\n",
       "      <td>[-0.042557526379823685, 0.014497015625238419, ...</td>\n",
       "      <td>[-0.03434642776846886, 0.03349967673420906, -0...</td>\n",
       "    </tr>\n",
       "    <tr>\n",
       "      <th>2</th>\n",
       "      <td>6813b2b5b7476b2ec454b801</td>\n",
       "      <td>5380e263-c202-45cf-8eae-81e54573f122</td>\n",
       "      <td>{\"category_name\":\"Higiene e Cuidados Pessoais\"...</td>\n",
       "      <td>{\"metrics\":{\"avgBasketPrice\":190.63,\"coPurchas...</td>\n",
       "      <td>d6cf7b73-c9bb-4c8a-abd6-c1a832bdd461</td>\n",
       "      <td>Creme para Pentear Boom Definição Intensa Seda...</td>\n",
       "      <td>Creme para Pentear Boom Definição Intensa Seda...</td>\n",
       "      <td>False</td>\n",
       "      <td>False</td>\n",
       "      <td>False</td>\n",
       "      <td>190.63</td>\n",
       "      <td>3</td>\n",
       "      <td>Higiene e Cuidados Pessoais</td>\n",
       "      <td>0.0</td>\n",
       "      <td>[-0.04810170456767082, 0.06214147433638573, -0...</td>\n",
       "      <td>[-0.03327842429280281, 0.06287676841020584, -0...</td>\n",
       "    </tr>\n",
       "    <tr>\n",
       "      <th>3</th>\n",
       "      <td>6813b2b5b7476b2ec454b802</td>\n",
       "      <td>595ce305-ddf5-49fc-9a8c-b50a9ccf6267</td>\n",
       "      <td>{\"category_name\":\"Higiene e Cuidados Pessoais\"...</td>\n",
       "      <td>{\"metrics\":{\"avgBasketPrice\":113.56,\"coPurchas...</td>\n",
       "      <td>d6cf7b73-c9bb-4c8a-abd6-c1a832bdd461</td>\n",
       "      <td>Desodorante Invisible For Black &amp; White Aeroso...</td>\n",
       "      <td>Desodorante Invisible For Black &amp; White Aeroso...</td>\n",
       "      <td>False</td>\n",
       "      <td>False</td>\n",
       "      <td>False</td>\n",
       "      <td>113.56</td>\n",
       "      <td>3</td>\n",
       "      <td>Higiene e Cuidados Pessoais</td>\n",
       "      <td>0.0</td>\n",
       "      <td>[-0.052515942603349686, 0.04236625134944916, 0...</td>\n",
       "      <td>[-0.042794786393642426, 0.0454389750957489, -0...</td>\n",
       "    </tr>\n",
       "  </tbody>\n",
       "</table>\n",
       "</div>"
      ],
      "text/plain": [
       "                        _id                                itemId  \\\n",
       "0  6813b2b5b7476b2ec454b7ff  442731c2-144b-4c5c-b81e-e0cf9dfa9630   \n",
       "1  6813b2b5b7476b2ec454b800  4a6d4a8f-c1bf-4457-a448-4a3b5e1eb20c   \n",
       "2  6813b2b5b7476b2ec454b801  5380e263-c202-45cf-8eae-81e54573f122   \n",
       "3  6813b2b5b7476b2ec454b802  595ce305-ddf5-49fc-9a8c-b50a9ccf6267   \n",
       "\n",
       "                                        itemMetadata  \\\n",
       "0  {\"category_name\":\"Alimentos Básicos\",\"descript...   \n",
       "1  {\"category_name\":\"Doces e Sobremesas\",\"descrip...   \n",
       "2  {\"category_name\":\"Higiene e Cuidados Pessoais\"...   \n",
       "3  {\"category_name\":\"Higiene e Cuidados Pessoais\"...   \n",
       "\n",
       "                                         itemProfile  \\\n",
       "0  {\"metrics\":{\"avgBasketPrice\":159.89,\"coPurchas...   \n",
       "1  {\"metrics\":{\"avgBasketPrice\":182.44,\"coPurchas...   \n",
       "2  {\"metrics\":{\"avgBasketPrice\":190.63,\"coPurchas...   \n",
       "3  {\"metrics\":{\"avgBasketPrice\":113.56,\"coPurchas...   \n",
       "\n",
       "                             merchantId  \\\n",
       "0  d6cf7b73-c9bb-4c8a-abd6-c1a832bdd461   \n",
       "1  d6cf7b73-c9bb-4c8a-abd6-c1a832bdd461   \n",
       "2  d6cf7b73-c9bb-4c8a-abd6-c1a832bdd461   \n",
       "3  d6cf7b73-c9bb-4c8a-abd6-c1a832bdd461   \n",
       "\n",
       "                                           jointText  \\\n",
       "0  Macarrão Pena com Ovos Adria 500g Pacote 500g ...   \n",
       "1  Goplana Squares Pistache 200g Embalagem 200g D...   \n",
       "2  Creme para Pentear Boom Definição Intensa Seda...   \n",
       "3  Desodorante Invisible For Black & White Aeroso...   \n",
       "\n",
       "                                    jointTextNatural  organic  lacFree  vegan  \\\n",
       "0  Macarrão Pena com Ovos Adria 500g pertencente ...    False    False  False   \n",
       "1  Goplana Squares Pistache 200g pertencente à ca...    False    False  False   \n",
       "2  Creme para Pentear Boom Definição Intensa Seda...    False    False  False   \n",
       "3  Desodorante Invisible For Black & White Aeroso...    False    False  False   \n",
       "\n",
       "   avgBasketPrice  total_orders                category_name  reorderRate  \\\n",
       "0          159.89            16            Alimentos Básicos          0.0   \n",
       "1          182.44             1           Doces e Sobremesas          0.0   \n",
       "2          190.63             3  Higiene e Cuidados Pessoais          0.0   \n",
       "3          113.56             3  Higiene e Cuidados Pessoais          0.0   \n",
       "\n",
       "                                embeddings_jointText  \\\n",
       "0  [-0.04738183692097664, 0.047670163214206696, -...   \n",
       "1  [-0.042557526379823685, 0.014497015625238419, ...   \n",
       "2  [-0.04810170456767082, 0.06214147433638573, -0...   \n",
       "3  [-0.052515942603349686, 0.04236625134944916, 0...   \n",
       "\n",
       "                         embeddings_jointTextNatural  \n",
       "0  [-0.0449894517660141, 0.05385494977235794, -0....  \n",
       "1  [-0.03434642776846886, 0.03349967673420906, -0...  \n",
       "2  [-0.03327842429280281, 0.06287676841020584, -0...  \n",
       "3  [-0.042794786393642426, 0.0454389750957489, -0...  "
      ]
     },
     "execution_count": 5,
     "metadata": {},
     "output_type": "execute_result"
    }
   ],
   "source": [
    "items.head(4)"
   ]
  },
  {
   "cell_type": "markdown",
   "metadata": {},
   "source": [
    "## Model Evaluations"
   ]
  },
  {
   "cell_type": "code",
   "execution_count": 3,
   "metadata": {},
   "outputs": [],
   "source": [
    "item_embeddings=items['embeddings_jointText']\n",
    "item_embeddings_natural=items['embeddings_jointTextNatural']\n",
    "\n",
    "item_embeddings = np.array([convert_embedding_string_to_array(emb) for emb in items['embeddings_jointText']])\n",
    "item_embeddings_natural = np.array([convert_embedding_string_to_array(emb) for emb in items['embeddings_jointTextNatural']])"
   ]
  },
  {
   "cell_type": "markdown",
   "metadata": {},
   "source": [
    "### Baselines"
   ]
  },
  {
   "cell_type": "code",
   "execution_count": null,
   "metadata": {},
   "outputs": [],
   "source": []
  },
  {
   "cell_type": "markdown",
   "metadata": {},
   "source": [
    "#### Joint Text"
   ]
  },
  {
   "cell_type": "code",
   "execution_count": 7,
   "metadata": {},
   "outputs": [],
   "source": [
    "results=[]\n",
    "#item_embeddings = np.array(embeddings_items_natural) \n",
    "for query in test_queries:\n",
    "    query_embedding = generate_embeddings([query])[0] \n",
    "    top_indices, top_scores = semantic_search(query_embedding, item_embeddings, top_k=10)\n",
    "    results.append(top_indices.tolist())"
   ]
  },
  {
   "cell_type": "code",
   "execution_count": 13,
   "metadata": {},
   "outputs": [
    {
     "name": "stdout",
     "output_type": "stream",
     "text": [
      "Evaluation Results:\n",
      "mrr: 0.627\n",
      "average_rank: 3.685\n",
      "hit_rate@1: 0.535\n",
      "precision@1: 0.535\n",
      "recall@1: 0.535\n",
      "hit_rate@3: 0.670\n",
      "precision@3: 0.223\n",
      "recall@3: 0.670\n",
      "hit_rate@5: 0.725\n",
      "precision@5: 0.145\n",
      "recall@5: 0.725\n",
      "hit_rate@10: 0.830\n",
      "precision@10: 0.083\n",
      "recall@10: 0.830\n",
      "\n",
      "Results saved to ../results/baseline_jointText.json\n",
      "\n",
      "Metrics dictionary:\n"
     ]
    }
   ],
   "source": [
    "import json\n",
    "# Evaluate the search system\n",
    "metrics = evaluate_search_system(test_queries, results)\n",
    "\n",
    "# Print the evaluation results\n",
    "print(\"Evaluation Results:\")\n",
    "for metric, value in metrics.items():\n",
    "    print(f\"{metric}: {value:.3f}\")\n",
    "\n",
    "# Save results to a JSON file\n",
    "filename = \"../results/baseline_jointText\" + \".json\"\n",
    "with open(filename, 'w') as f:\n",
    "    json.dump(metrics, f, indent=4)\n",
    "\n",
    "print(f\"\\nResults saved to {filename}\")\n",
    "print(\"\\nMetrics dictionary:\")\n"
   ]
  },
  {
   "cell_type": "markdown",
   "metadata": {},
   "source": [
    "Time measurement"
   ]
  },
  {
   "cell_type": "code",
   "execution_count": 20,
   "metadata": {},
   "outputs": [
    {
     "name": "stdout",
     "output_type": "stream",
     "text": [
      "Elapsed time: 0.3513 seconds\n"
     ]
    }
   ],
   "source": [
    "import time\n",
    "\n",
    "# Start time\n",
    "start_time = time.time()\n",
    "\n",
    "# Your code\n",
    "query = \"Arroz integral para alimentação saudável\"\n",
    "query_embedding = generate_embeddings([query])[0]  # Your embedding function\n",
    "items_df = items  # Assuming items is defined somewhere\n",
    "top_k_indices, similarities = semantic_search(query_embedding, item_embeddings, top_k=10)\n",
    "\n",
    "# End time\n",
    "end_time = time.time()\n",
    "\n",
    "# Calculate elapsed time\n",
    "elapsed_time = end_time - start_time\n",
    "print(f\"Elapsed time: {elapsed_time:.4f} seconds\")"
   ]
  },
  {
   "cell_type": "markdown",
   "metadata": {},
   "source": [
    "#### Joint Text Natural"
   ]
  },
  {
   "cell_type": "code",
   "execution_count": 21,
   "metadata": {},
   "outputs": [],
   "source": [
    "results_natural=[]\n",
    "for query in test_queries:\n",
    "    query_embedding = generate_embeddings([query])[0] \n",
    "    top_indices, top_scores = semantic_search(query_embedding, item_embeddings_natural, top_k=10)\n",
    "    results_natural.append(top_indices.tolist())"
   ]
  },
  {
   "cell_type": "code",
   "execution_count": null,
   "metadata": {},
   "outputs": [
    {
     "name": "stdout",
     "output_type": "stream",
     "text": [
      "Evaluation Results:\n",
      "mrr: 0.604\n",
      "average_rank: 3.705\n",
      "hit_rate@1: 0.500\n",
      "precision@1: 0.500\n",
      "recall@1: 0.500\n",
      "hit_rate@3: 0.655\n",
      "precision@3: 0.218\n",
      "recall@3: 0.655\n",
      "hit_rate@5: 0.740\n",
      "precision@5: 0.148\n",
      "recall@5: 0.740\n",
      "hit_rate@10: 0.835\n",
      "precision@10: 0.083\n",
      "recall@10: 0.835\n",
      "\n",
      "Results saved to ../results/baseline_jointTextNatural.json\n",
      "\n",
      "Metrics dictionary:\n"
     ]
    }
   ],
   "source": [
    "\n",
    "metrics_natural = evaluate_search_system(test_queries, results_natural)\n",
    "\n",
    "# Print the evaluation results\n",
    "print(\"Evaluation Results:\")\n",
    "for metric, value in metrics_natural.items():\n",
    "    print(f\"{metric}: {value:.3f}\")\n",
    "\n",
    "# Save results to a JSON file\n",
    "filename = \"../results/baseline_jointTextNatural\" + \".json\"\n",
    "with open(filename, 'w') as f:\n",
    "    json.dump(metrics_natural, f, indent=4)\n",
    "\n",
    "print(f\"\\nResults saved to {filename}\")\n",
    "print(\"\\nMetrics dictionary:\")\n"
   ]
  },
  {
   "cell_type": "code",
   "execution_count": 28,
   "metadata": {},
   "outputs": [
    {
     "name": "stdout",
     "output_type": "stream",
     "text": [
      "Elapsed time: 0.3893 seconds\n"
     ]
    }
   ],
   "source": [
    "import time\n",
    "\n",
    "# Start time\n",
    "start_time = time.time()\n",
    "\n",
    "# Your code\n",
    "query = \"Arroz integral para alimentação saudável\"\n",
    "query_embedding = generate_embeddings([query])[0]  # Your embedding function\n",
    "items_df = items  # Assuming items is defined somewhere\n",
    "top_k_indices, similarities = semantic_search(query_embedding, item_embeddings_natural, top_k=10)\n",
    "\n",
    "# End time\n",
    "end_time = time.time()\n",
    "\n",
    "# Calculate elapsed time\n",
    "elapsed_time = end_time - start_time\n",
    "print(f\"Elapsed time: {elapsed_time:.4f} seconds\")"
   ]
  },
  {
   "cell_type": "markdown",
   "metadata": {},
   "source": [
    "### Display"
   ]
  },
  {
   "cell_type": "code",
   "execution_count": null,
   "metadata": {},
   "outputs": [
    {
     "data": {
      "application/vnd.jupyter.widget-view+json": {
       "model_id": "4d597dd683b14d07bb95653428e1cef5",
       "version_major": 2,
       "version_minor": 0
      },
      "text/plain": [
       "VBox(children=(Text(value='', description='Query:'), Dropdown(description='Method:', options=('Basic Semantic …"
      ]
     },
     "metadata": {},
     "output_type": "display_data"
    },
    {
     "data": {
      "application/vnd.jupyter.widget-view+json": {
       "model_id": "9fcf263a73f6457185c36f7ee5f03d1a",
       "version_major": 2,
       "version_minor": 0
      },
      "text/plain": [
       "VBox(children=(Text(value='', description='Query:'), Dropdown(description='Method:', options=('Basic Semantic …"
      ]
     },
     "metadata": {},
     "output_type": "display_data"
    }
   ],
   "source": [
    "search_ui(item_embeddings, items)"
   ]
  },
  {
   "cell_type": "markdown",
   "metadata": {},
   "source": [
    "### Re-Rank"
   ]
  },
  {
   "cell_type": "code",
   "execution_count": null,
   "metadata": {},
   "outputs": [
    {
     "name": "stderr",
     "output_type": "stream",
     "text": [
      "Processing queries: 100%|██████████| 200/200 [36:21<00:00, 10.91s/query]\n"
     ]
    }
   ],
   "source": [
    "results_rr=[]\n",
    "for query in tqdm(test_queries, desc=\"Processing queries\", unit=\"query\"):\n",
    "    #query_embedding = generate_embeddings([query])[0] \n",
    "    top_indices = enhanced_search(query, item_embeddings, items_df=items, top_k=10)\n",
    "    results_rr.append(top_indices)"
   ]
  },
  {
   "cell_type": "code",
   "execution_count": null,
   "metadata": {},
   "outputs": [
    {
     "name": "stdout",
     "output_type": "stream",
     "text": [
      "Evaluation Results:\n",
      "mrr: 0.581\n",
      "average_rank: 3.680\n",
      "hit_rate@1: 0.440\n",
      "precision@1: 0.440\n",
      "recall@1: 0.440\n",
      "hit_rate@3: 0.675\n",
      "precision@3: 0.225\n",
      "recall@3: 0.675\n",
      "hit_rate@5: 0.760\n",
      "precision@5: 0.152\n",
      "recall@5: 0.760\n",
      "hit_rate@10: 0.840\n",
      "precision@10: 0.084\n",
      "recall@10: 0.840\n"
     ]
    }
   ],
   "source": [
    "metrics_rr = evaluate_search_system(test_queries, results_rr)\n",
    "print(\"Evaluation Results:\")\n",
    "for metric, value in metrics_rr.items():\n",
    "    print(f\"{metric}: {value:.3f}\")\n",
    "\n",
    "# Save results to a JSON file\n",
    "filename = \"../results/rerank_jointText\" + \".json\"\n",
    "with open(filename, 'w') as f:\n",
    "    json.dump(metrics_rr, f, indent=4)\n",
    "\n",
    "print(f\"\\nResults saved to {filename}\")\n",
    "print(\"\\nMetrics dictionary:\")"
   ]
  },
  {
   "cell_type": "markdown",
   "metadata": {},
   "source": [
    "##### Time measurement"
   ]
  },
  {
   "cell_type": "code",
   "execution_count": 39,
   "metadata": {},
   "outputs": [
    {
     "name": "stdout",
     "output_type": "stream",
     "text": [
      "Elapsed time: 7.7811 seconds\n"
     ]
    }
   ],
   "source": [
    "import time\n",
    "\n",
    "\n",
    "start_time = time.time()\n",
    "\n",
    "\n",
    "query = \"Arroz integral para alimentação saudável\"\n",
    "\n",
    "top_indices = enhanced_search(query ,item_embeddings_natural, items_df=items, top_k=10)\n",
    "\n",
    "\n",
    "end_time = time.time()\n",
    "\n",
    "# elapsed time\n",
    "elapsed_time = end_time - start_time\n",
    "print(f\"Elapsed time: {elapsed_time:.4f} seconds\")"
   ]
  },
  {
   "cell_type": "markdown",
   "metadata": {},
   "source": [
    "### Items query expansion"
   ]
  },
  {
   "cell_type": "code",
   "execution_count": 40,
   "metadata": {},
   "outputs": [],
   "source": [
    "query_gallery_embedding=generate_embeddings(queries['search_term_pt'])"
   ]
  },
  {
   "cell_type": "code",
   "execution_count": 47,
   "metadata": {},
   "outputs": [],
   "source": [
    "embeddings_items_query=items['embeddings_similar_queries_expanded']\n",
    "embeddings_items_query = np.array([convert_embedding_string_to_array(emb) for emb in embeddings_items_query])"
   ]
  },
  {
   "cell_type": "code",
   "execution_count": null,
   "metadata": {},
   "outputs": [],
   "source": [
    "results_q_e=[]\n",
    "for query in test_queries:\n",
    "    query_embedding = generate_embeddings([query])[0] \n",
    "    top_indices, top_scores = semantic_search(query_embedding, embeddings_items_query, top_k=10)\n",
    "    results_q_e.append(top_indices.tolist())"
   ]
  },
  {
   "cell_type": "code",
   "execution_count": null,
   "metadata": {},
   "outputs": [
    {
     "name": "stdout",
     "output_type": "stream",
     "text": [
      "Evaluation Results:\n",
      "mrr: 0.604\n",
      "average_rank: 3.725\n",
      "hit_rate@1: 0.500\n",
      "precision@1: 0.500\n",
      "recall@1: 0.500\n",
      "hit_rate@3: 0.690\n",
      "precision@3: 0.230\n",
      "recall@3: 0.690\n",
      "hit_rate@5: 0.750\n",
      "precision@5: 0.150\n",
      "recall@5: 0.750\n",
      "hit_rate@10: 0.835\n",
      "precision@10: 0.083\n",
      "recall@10: 0.835\n",
      "\n",
      "Results saved to ../results/query_expansion.json\n",
      "\n",
      "Metrics dictionary:\n"
     ]
    }
   ],
   "source": [
    "metrics_q_e = evaluate_search_system(test_queries, results_q_e)\n",
    "print(\"Evaluation Results:\")\n",
    "for metric, value in metrics_q_e.items():\n",
    "    print(f\"{metric}: {value:.3f}\")\n",
    "\n",
    "# Save results to a JSON file\n",
    "filename = \"../results/query_expansion\" + \".json\"\n",
    "with open(filename, 'w') as f:\n",
    "    json.dump(metrics_q_e, f, indent=4)\n",
    "\n",
    "print(f\"\\nResults saved to {filename}\")\n"
   ]
  },
  {
   "cell_type": "code",
   "execution_count": 55,
   "metadata": {},
   "outputs": [
    {
     "name": "stdout",
     "output_type": "stream",
     "text": [
      "Elapsed time: 0.5448 seconds\n"
     ]
    }
   ],
   "source": [
    "import time\n",
    "\n",
    "\n",
    "start_time = time.time()\n",
    "\n",
    "\n",
    "query = \"Arroz integral para alimentação saudável\"\n",
    "\n",
    "query_embedding = generate_embeddings([query])[0] \n",
    "top_indices, top_scores = semantic_search(query_embedding, embeddings_items_query, top_k=10)\n",
    "\n",
    "\n",
    "end_time = time.time()\n",
    "\n",
    "# elapsed time\n",
    "elapsed_time = end_time - start_time\n",
    "print(f\"Elapsed time: {elapsed_time:.4f} seconds\")"
   ]
  },
  {
   "cell_type": "code",
   "execution_count": 144,
   "metadata": {},
   "outputs": [],
   "source": [
    "results=[]\n",
    "for query in test_queries:\n",
    "    query_embedding = generate_embeddings([query])[0] \n",
    "    top_indices, top_scores = semantic_search_expanded_query(query_embedding, embeddings_items_query, query_gallery_embedding, top_k=100)\n",
    "    results.append(top_indices.tolist())\n",
    "    "
   ]
  },
  {
   "cell_type": "markdown",
   "metadata": {},
   "source": [
    "### FAISS"
   ]
  },
  {
   "cell_type": "code",
   "execution_count": 63,
   "metadata": {},
   "outputs": [],
   "source": [
    "# Assuming item_embeddings is your list/array of embeddings\n",
    "faiss_index = build_faiss_index(item_embeddings)"
   ]
  },
  {
   "cell_type": "code",
   "execution_count": 79,
   "metadata": {},
   "outputs": [
    {
     "name": "stdout",
     "output_type": "stream",
     "text": [
      "Elapsed time: 13.9625 seconds\n"
     ]
    }
   ],
   "source": [
    "# Start time\n",
    "start_time = time.time()\n",
    "\n",
    "# Your code\n",
    "query = \"Arroz integral para alimentação saudável\"\n",
    "\n",
    "results = enhanced_search_with_faiss(query, faiss_index, items_df)\n",
    "\n",
    "# End time\n",
    "end_time = time.time()\n",
    "\n",
    "# Calculate elapsed time\n",
    "elapsed_time = end_time - start_time\n",
    "print(f\"Elapsed time: {elapsed_time:.4f} seconds\")"
   ]
  },
  {
   "cell_type": "code",
   "execution_count": 65,
   "metadata": {},
   "outputs": [
    {
     "name": "stdout",
     "output_type": "stream",
     "text": [
      "Warning: Could not parse ranked items properly. Using original order.\n"
     ]
    }
   ],
   "source": [
    "results_faiss=[]\n",
    "for query in test_queries:\n",
    "    top_indices = enhanced_search_with_faiss(query, faiss_index, items_df)\n",
    "    results_faiss.append(top_indices)"
   ]
  },
  {
   "cell_type": "code",
   "execution_count": 76,
   "metadata": {},
   "outputs": [
    {
     "name": "stdout",
     "output_type": "stream",
     "text": [
      "Evaluation Results:\n",
      "mrr: 0.605\n",
      "average_rank: 3.475\n",
      "hit_rate@1: 0.480\n",
      "precision@1: 0.480\n",
      "recall@1: 0.480\n",
      "hit_rate@3: 0.700\n",
      "precision@3: 0.233\n",
      "recall@3: 0.700\n",
      "hit_rate@5: 0.790\n",
      "precision@5: 0.158\n",
      "recall@5: 0.790\n",
      "hit_rate@10: 0.845\n",
      "precision@10: 0.084\n",
      "recall@10: 0.845\n",
      "\n",
      "Results saved to ../results/faiss.json\n"
     ]
    }
   ],
   "source": [
    "metrics_faiss = evaluate_search_system(test_queries, results_faiss)\n",
    "print(\"Evaluation Results:\")\n",
    "for metric, value in metrics_faiss.items():\n",
    "    print(f\"{metric}: {value:.3f}\")\n",
    "\n",
    "# Save results to a JSON file\n",
    "filename = \"../results/faiss\" + \".json\"\n",
    "with open(filename, 'w') as f:\n",
    "    json.dump(metrics_faiss, f, indent=4)\n",
    "\n",
    "print(f\"\\nResults saved to {filename}\")"
   ]
  },
  {
   "cell_type": "markdown",
   "metadata": {},
   "source": [
    "### Query Expansion"
   ]
  },
  {
   "cell_type": "code",
   "execution_count": null,
   "metadata": {},
   "outputs": [],
   "source": [
    "results_q=[]\n",
    "for query in test_queries:\n",
    "    query_embedding = generate_embeddings([query])[0] \n",
    "    top_indices, top_scores = semantic_search_expanded_query(query_embedding, embeddings_items_query, query_gallery_embedding, top_k=100)\n",
    "    results_q.append(top_indices.tolist())\n",
    "    "
   ]
  },
  {
   "cell_type": "code",
   "execution_count": null,
   "metadata": {},
   "outputs": [],
   "source": [
    "metrics_q = evaluate_search_system(test_queries, results_q)\n",
    "print(\"Evaluation Results:\")\n",
    "for metric, value in metrics_q.items():\n",
    "    print(f\"{metric}: {value:.3f}\")"
   ]
  }
 ],
 "metadata": {
  "kernelspec": {
   "display_name": "venv",
   "language": "python",
   "name": "python3"
  },
  "language_info": {
   "codemirror_mode": {
    "name": "ipython",
    "version": 3
   },
   "file_extension": ".py",
   "mimetype": "text/x-python",
   "name": "python",
   "nbconvert_exporter": "python",
   "pygments_lexer": "ipython3",
   "version": "3.13.2"
  }
 },
 "nbformat": 4,
 "nbformat_minor": 2
}
